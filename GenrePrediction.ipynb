{
 "cells": [
  {
   "cell_type": "markdown",
   "metadata": {},
   "source": [
    "## Genre Prediction of IMDB movies\n",
    "The aim of this project to predict the genre of movies based on the description of a movie. The data for training and testing the model has been collected from IMDB website through web-scraping."
   ]
  },
  {
   "cell_type": "markdown",
   "metadata": {},
   "source": [
    "### Importing the required packages"
   ]
  },
  {
   "cell_type": "code",
   "execution_count": 2,
   "metadata": {},
   "outputs": [],
   "source": [
    "# import the required packages\n",
    "import re\n",
    "import nltk\n",
    "import numpy as np\n",
    "import pandas as pd\n",
    "import seaborn as sns\n",
    "import matplotlib.pyplot as plt\n",
    "\n",
    "from collections import Counter\n",
    "from nltk.corpus import stopwords\n",
    "from nltk.tokenize import word_tokenize\n",
    "from nltk.stem import WordNetLemmatizer\n",
    "\n",
    "from sklearn.svm import SVC\n",
    "from sklearn.naive_bayes import MultinomialNB\n",
    "from sklearn.preprocessing import LabelEncoder\n",
    "from sklearn.model_selection import train_test_split\n",
    "from sklearn.feature_extraction.text import CountVectorizer\n",
    "from sklearn.feature_extraction.text import TfidfVectorizer\n",
    "from sklearn.metrics import confusion_matrix\n",
    "from sklearn.metrics import classification_report\n",
    "from sklearn.metrics import f1_score"
   ]
  },
  {
   "cell_type": "markdown",
   "metadata": {},
   "source": [
    "### Downloading required nltk data packages"
   ]
  },
  {
   "cell_type": "code",
   "execution_count": 3,
   "metadata": {},
   "outputs": [
    {
     "name": "stderr",
     "output_type": "stream",
     "text": [
      "[nltk_data] Downloading package punkt to /Users/Bikiran/nltk_data...\n",
      "[nltk_data]   Package punkt is already up-to-date!\n",
      "[nltk_data] Downloading package stopwords to\n",
      "[nltk_data]     /Users/Bikiran/nltk_data...\n",
      "[nltk_data]   Package stopwords is already up-to-date!\n",
      "[nltk_data] Downloading package wordnet to /Users/Bikiran/nltk_data...\n",
      "[nltk_data]   Package wordnet is already up-to-date!\n",
      "[nltk_data] Downloading package omw-1.4 to /Users/Bikiran/nltk_data...\n",
      "[nltk_data]   Package omw-1.4 is already up-to-date!\n"
     ]
    },
    {
     "data": {
      "text/plain": [
       "True"
      ]
     },
     "execution_count": 3,
     "metadata": {},
     "output_type": "execute_result"
    }
   ],
   "source": [
    "# download required nltk data\n",
    "nltk.download('punkt')\n",
    "nltk.download('stopwords')\n",
    "nltk.download('wordnet')\n",
    "nltk.download('omw-1.4')"
   ]
  },
  {
   "cell_type": "markdown",
   "metadata": {},
   "source": [
    "### Loading the dataset"
   ]
  },
  {
   "cell_type": "code",
   "execution_count": 4,
   "metadata": {},
   "outputs": [
    {
     "data": {
      "text/html": [
       "<div>\n",
       "<style scoped>\n",
       "    .dataframe tbody tr th:only-of-type {\n",
       "        vertical-align: middle;\n",
       "    }\n",
       "\n",
       "    .dataframe tbody tr th {\n",
       "        vertical-align: top;\n",
       "    }\n",
       "\n",
       "    .dataframe thead th {\n",
       "        text-align: right;\n",
       "    }\n",
       "</style>\n",
       "<table border=\"1\" class=\"dataframe\">\n",
       "  <thead>\n",
       "    <tr style=\"text-align: right;\">\n",
       "      <th></th>\n",
       "      <th>link</th>\n",
       "      <th>title</th>\n",
       "      <th>year</th>\n",
       "      <th>runtime</th>\n",
       "      <th>genre</th>\n",
       "      <th>globalRate</th>\n",
       "      <th>text</th>\n",
       "      <th>votes</th>\n",
       "      <th>stars</th>\n",
       "      <th>creator</th>\n",
       "      <th>...</th>\n",
       "      <th>Unnamed: 16</th>\n",
       "      <th>Unnamed: 17</th>\n",
       "      <th>Unnamed: 18</th>\n",
       "      <th>Unnamed: 19</th>\n",
       "      <th>Unnamed: 20</th>\n",
       "      <th>Unnamed: 21</th>\n",
       "      <th>Unnamed: 22</th>\n",
       "      <th>Unnamed: 23</th>\n",
       "      <th>Unnamed: 24</th>\n",
       "      <th>Unnamed: 25</th>\n",
       "    </tr>\n",
       "  </thead>\n",
       "  <tbody>\n",
       "    <tr>\n",
       "      <th>0</th>\n",
       "      <td>/title/tt0000417/?ref_=adv_li_tt</td>\n",
       "      <td>Die Reise zum Mond</td>\n",
       "      <td>1902</td>\n",
       "      <td>13.0</td>\n",
       "      <td>Short</td>\n",
       "      <td>8.2</td>\n",
       "      <td>A group of astronomers go on an expedition to ...</td>\n",
       "      <td>48021</td>\n",
       "      <td>Georges Méliès, Victor André, Bleuette Bernon,...</td>\n",
       "      <td>Georges Méliès</td>\n",
       "      <td>...</td>\n",
       "      <td>NaN</td>\n",
       "      <td>NaN</td>\n",
       "      <td>NaN</td>\n",
       "      <td>NaN</td>\n",
       "      <td>NaN</td>\n",
       "      <td>NaN</td>\n",
       "      <td>NaN</td>\n",
       "      <td>NaN</td>\n",
       "      <td>NaN</td>\n",
       "      <td>NaN</td>\n",
       "    </tr>\n",
       "    <tr>\n",
       "      <th>1</th>\n",
       "      <td>/title/tt0004052/?ref_=adv_li_tt</td>\n",
       "      <td>The Hazards of Helen</td>\n",
       "      <td>1914</td>\n",
       "      <td>NaN</td>\n",
       "      <td>Action</td>\n",
       "      <td>7.0</td>\n",
       "      <td>Helen, informed of the danger which menaces an...</td>\n",
       "      <td>108</td>\n",
       "      <td>Helen Holmes, Helen Gibson, J.P. McGowan, Ethe...</td>\n",
       "      <td>J. Gunnis Davis, J.P. McGowan, Robert G. Vignola</td>\n",
       "      <td>...</td>\n",
       "      <td>NaN</td>\n",
       "      <td>NaN</td>\n",
       "      <td>NaN</td>\n",
       "      <td>NaN</td>\n",
       "      <td>NaN</td>\n",
       "      <td>NaN</td>\n",
       "      <td>NaN</td>\n",
       "      <td>NaN</td>\n",
       "      <td>NaN</td>\n",
       "      <td>NaN</td>\n",
       "    </tr>\n",
       "    <tr>\n",
       "      <th>2</th>\n",
       "      <td>/title/tt0004465/?ref_=adv_li_tt</td>\n",
       "      <td>The Perils of Pauline</td>\n",
       "      <td>1914</td>\n",
       "      <td>199.0</td>\n",
       "      <td>Action</td>\n",
       "      <td>6.3</td>\n",
       "      <td>Pauline, a young maiden, must protect herself ...</td>\n",
       "      <td>1026</td>\n",
       "      <td>Pearl White, Crane Wilbur, Paul Panzer, Edward...</td>\n",
       "      <td>Louis J. Gasnier, Donald MacKenzie</td>\n",
       "      <td>...</td>\n",
       "      <td>NaN</td>\n",
       "      <td>NaN</td>\n",
       "      <td>NaN</td>\n",
       "      <td>NaN</td>\n",
       "      <td>NaN</td>\n",
       "      <td>NaN</td>\n",
       "      <td>NaN</td>\n",
       "      <td>NaN</td>\n",
       "      <td>NaN</td>\n",
       "      <td>NaN</td>\n",
       "    </tr>\n",
       "    <tr>\n",
       "      <th>3</th>\n",
       "      <td>/title/tt0006206/?ref_=adv_li_tt</td>\n",
       "      <td>Die Vampire</td>\n",
       "      <td>1915</td>\n",
       "      <td>421.0</td>\n",
       "      <td>Action</td>\n",
       "      <td>7.3</td>\n",
       "      <td>An intrepid reporter and his loyal friend batt...</td>\n",
       "      <td>4704</td>\n",
       "      <td>Musidora, Édouard Mathé, Marcel Lévesque, Jean...</td>\n",
       "      <td>Louis Feuillade</td>\n",
       "      <td>...</td>\n",
       "      <td>NaN</td>\n",
       "      <td>NaN</td>\n",
       "      <td>NaN</td>\n",
       "      <td>NaN</td>\n",
       "      <td>NaN</td>\n",
       "      <td>NaN</td>\n",
       "      <td>NaN</td>\n",
       "      <td>NaN</td>\n",
       "      <td>NaN</td>\n",
       "      <td>NaN</td>\n",
       "    </tr>\n",
       "    <tr>\n",
       "      <th>4</th>\n",
       "      <td>/title/tt0010323/?ref_=adv_li_tt</td>\n",
       "      <td>Das Cabinet des Dr. Caligari</td>\n",
       "      <td>1920</td>\n",
       "      <td>76.0</td>\n",
       "      <td>Horror</td>\n",
       "      <td>8.1</td>\n",
       "      <td>Hypnotist Dr. Caligari uses a somnambulist, Ce...</td>\n",
       "      <td>61840</td>\n",
       "      <td>Werner Krauss, Conrad Veidt, Friedrich Feher, ...</td>\n",
       "      <td>Robert Wiene</td>\n",
       "      <td>...</td>\n",
       "      <td>NaN</td>\n",
       "      <td>NaN</td>\n",
       "      <td>NaN</td>\n",
       "      <td>NaN</td>\n",
       "      <td>NaN</td>\n",
       "      <td>NaN</td>\n",
       "      <td>NaN</td>\n",
       "      <td>NaN</td>\n",
       "      <td>NaN</td>\n",
       "      <td>NaN</td>\n",
       "    </tr>\n",
       "  </tbody>\n",
       "</table>\n",
       "<p>5 rows × 26 columns</p>\n",
       "</div>"
      ],
      "text/plain": [
       "                               link                         title  year  \\\n",
       "0  /title/tt0000417/?ref_=adv_li_tt            Die Reise zum Mond  1902   \n",
       "1  /title/tt0004052/?ref_=adv_li_tt          The Hazards of Helen  1914   \n",
       "2  /title/tt0004465/?ref_=adv_li_tt         The Perils of Pauline  1914   \n",
       "3  /title/tt0006206/?ref_=adv_li_tt                   Die Vampire  1915   \n",
       "4  /title/tt0010323/?ref_=adv_li_tt  Das Cabinet des Dr. Caligari  1920   \n",
       "\n",
       "   runtime   genre  globalRate  \\\n",
       "0     13.0   Short         8.2   \n",
       "1      NaN  Action         7.0   \n",
       "2    199.0  Action         6.3   \n",
       "3    421.0  Action         7.3   \n",
       "4     76.0  Horror         8.1   \n",
       "\n",
       "                                                text  votes  \\\n",
       "0  A group of astronomers go on an expedition to ...  48021   \n",
       "1  Helen, informed of the danger which menaces an...    108   \n",
       "2  Pauline, a young maiden, must protect herself ...   1026   \n",
       "3  An intrepid reporter and his loyal friend batt...   4704   \n",
       "4  Hypnotist Dr. Caligari uses a somnambulist, Ce...  61840   \n",
       "\n",
       "                                               stars  \\\n",
       "0  Georges Méliès, Victor André, Bleuette Bernon,...   \n",
       "1  Helen Holmes, Helen Gibson, J.P. McGowan, Ethe...   \n",
       "2  Pearl White, Crane Wilbur, Paul Panzer, Edward...   \n",
       "3  Musidora, Édouard Mathé, Marcel Lévesque, Jean...   \n",
       "4  Werner Krauss, Conrad Veidt, Friedrich Feher, ...   \n",
       "\n",
       "                                            creator  ... Unnamed: 16  \\\n",
       "0                                    Georges Méliès  ...         NaN   \n",
       "1  J. Gunnis Davis, J.P. McGowan, Robert G. Vignola  ...         NaN   \n",
       "2                Louis J. Gasnier, Donald MacKenzie  ...         NaN   \n",
       "3                                   Louis Feuillade  ...         NaN   \n",
       "4                                      Robert Wiene  ...         NaN   \n",
       "\n",
       "  Unnamed: 17 Unnamed: 18 Unnamed: 19 Unnamed: 20 Unnamed: 21  Unnamed: 22  \\\n",
       "0         NaN         NaN         NaN         NaN         NaN          NaN   \n",
       "1         NaN         NaN         NaN         NaN         NaN          NaN   \n",
       "2         NaN         NaN         NaN         NaN         NaN          NaN   \n",
       "3         NaN         NaN         NaN         NaN         NaN          NaN   \n",
       "4         NaN         NaN         NaN         NaN         NaN          NaN   \n",
       "\n",
       "   Unnamed: 23  Unnamed: 24  Unnamed: 25  \n",
       "0          NaN          NaN          NaN  \n",
       "1          NaN          NaN          NaN  \n",
       "2          NaN          NaN          NaN  \n",
       "3          NaN          NaN          NaN  \n",
       "4          NaN          NaN          NaN  \n",
       "\n",
       "[5 rows x 26 columns]"
      ]
     },
     "execution_count": 4,
     "metadata": {},
     "output_type": "execute_result"
    }
   ],
   "source": [
    "# load the dataset from excel file.\n",
    "xl = pd.ExcelFile('IMDB_StoryLine.xlsx')\n",
    "raw_data_df = xl.parse('Sheet 1')\n",
    "\n",
    "raw_data_df.head()"
   ]
  },
  {
   "cell_type": "markdown",
   "metadata": {},
   "source": [
    "### Exploring and Cleaning the dataset"
   ]
  },
  {
   "cell_type": "code",
   "execution_count": 5,
   "metadata": {},
   "outputs": [
    {
     "data": {
      "text/plain": [
       "Index(['link', 'title', 'year', 'runtime', 'genre', 'globalRate', 'text',\n",
       "       'votes', 'stars', 'creator', 'story_line', 'tag_line',\n",
       "       'country_of_origin', 'language', 'color', 'sound_mix', 'Unnamed: 16',\n",
       "       'Unnamed: 17', 'Unnamed: 18', 'Unnamed: 19', 'Unnamed: 20',\n",
       "       'Unnamed: 21', 'Unnamed: 22', 'Unnamed: 23', 'Unnamed: 24',\n",
       "       'Unnamed: 25'],\n",
       "      dtype='object')"
      ]
     },
     "execution_count": 5,
     "metadata": {},
     "output_type": "execute_result"
    }
   ],
   "source": [
    "# check the columns in the dataframe\n",
    "raw_data_df.columns"
   ]
  },
  {
   "cell_type": "code",
   "execution_count": 6,
   "metadata": {},
   "outputs": [
    {
     "data": {
      "text/html": [
       "<div>\n",
       "<style scoped>\n",
       "    .dataframe tbody tr th:only-of-type {\n",
       "        vertical-align: middle;\n",
       "    }\n",
       "\n",
       "    .dataframe tbody tr th {\n",
       "        vertical-align: top;\n",
       "    }\n",
       "\n",
       "    .dataframe thead th {\n",
       "        text-align: right;\n",
       "    }\n",
       "</style>\n",
       "<table border=\"1\" class=\"dataframe\">\n",
       "  <thead>\n",
       "    <tr style=\"text-align: right;\">\n",
       "      <th></th>\n",
       "      <th>genre</th>\n",
       "      <th>text</th>\n",
       "      <th>story_line</th>\n",
       "    </tr>\n",
       "  </thead>\n",
       "  <tbody>\n",
       "    <tr>\n",
       "      <th>0</th>\n",
       "      <td>Short</td>\n",
       "      <td>A group of astronomers go on an expedition to ...</td>\n",
       "      <td>An association of astronomers has convened to ...</td>\n",
       "    </tr>\n",
       "    <tr>\n",
       "      <th>1</th>\n",
       "      <td>Action</td>\n",
       "      <td>Helen, informed of the danger which menaces an...</td>\n",
       "      <td>NaN</td>\n",
       "    </tr>\n",
       "    <tr>\n",
       "      <th>2</th>\n",
       "      <td>Action</td>\n",
       "      <td>Pauline, a young maiden, must protect herself ...</td>\n",
       "      <td>Young Pauline is left a lot of money when her ...</td>\n",
       "    </tr>\n",
       "    <tr>\n",
       "      <th>3</th>\n",
       "      <td>Action</td>\n",
       "      <td>An intrepid reporter and his loyal friend batt...</td>\n",
       "      <td>NaN</td>\n",
       "    </tr>\n",
       "    <tr>\n",
       "      <th>4</th>\n",
       "      <td>Horror</td>\n",
       "      <td>Hypnotist Dr. Caligari uses a somnambulist, Ce...</td>\n",
       "      <td>Francis, a young man, recalls in his memory th...</td>\n",
       "    </tr>\n",
       "  </tbody>\n",
       "</table>\n",
       "</div>"
      ],
      "text/plain": [
       "    genre                                               text  \\\n",
       "0   Short  A group of astronomers go on an expedition to ...   \n",
       "1  Action  Helen, informed of the danger which menaces an...   \n",
       "2  Action  Pauline, a young maiden, must protect herself ...   \n",
       "3  Action  An intrepid reporter and his loyal friend batt...   \n",
       "4  Horror  Hypnotist Dr. Caligari uses a somnambulist, Ce...   \n",
       "\n",
       "                                          story_line  \n",
       "0  An association of astronomers has convened to ...  \n",
       "1                                                NaN  \n",
       "2  Young Pauline is left a lot of money when her ...  \n",
       "3                                                NaN  \n",
       "4  Francis, a young man, recalls in his memory th...  "
      ]
     },
     "execution_count": 6,
     "metadata": {},
     "output_type": "execute_result"
    }
   ],
   "source": [
    "# select only 'genre', 'text, 'story_line' columns from the raw data\n",
    "dataset_df = raw_data_df[['genre', 'text', 'story_line']].copy()\n",
    "\n",
    "dataset_df.head()"
   ]
  },
  {
   "cell_type": "code",
   "execution_count": 7,
   "metadata": {},
   "outputs": [
    {
     "name": "stdout",
     "output_type": "stream",
     "text": [
      "<class 'pandas.core.frame.DataFrame'>\n",
      "RangeIndex: 25293 entries, 0 to 25292\n",
      "Data columns (total 3 columns):\n",
      " #   Column      Non-Null Count  Dtype \n",
      "---  ------      --------------  ----- \n",
      " 0   genre       25293 non-null  object\n",
      " 1   text        25293 non-null  object\n",
      " 2   story_line  20094 non-null  object\n",
      "dtypes: object(3)\n",
      "memory usage: 592.9+ KB\n"
     ]
    }
   ],
   "source": [
    "# look at the basic information about the dataframe\n",
    "dataset_df.info()"
   ]
  },
  {
   "cell_type": "code",
   "execution_count": 8,
   "metadata": {},
   "outputs": [
    {
     "data": {
      "text/plain": [
       "genre            0\n",
       "text             0\n",
       "story_line    5199\n",
       "dtype: int64"
      ]
     },
     "execution_count": 8,
     "metadata": {},
     "output_type": "execute_result"
    }
   ],
   "source": [
    "# check count of null values\n",
    "dataset_df.isna().sum()"
   ]
  },
  {
   "cell_type": "markdown",
   "metadata": {},
   "source": [
    "We have 5199 null values (`NaN`) in the `story_line` column.  \n",
    "We will impute the `story_line` column in our dataset with the value available in `text` column.\n",
    "\n",
    "Also, on visual inspection of the dataset, we observed instances where the text in `story_line` column contained only the contributers name preceded by an 'Em dash'. We will replace such text also with `NaN` and then impute its value from the `text` column."
   ]
  },
  {
   "cell_type": "code",
   "execution_count": 10,
   "metadata": {},
   "outputs": [
    {
     "data": {
      "text/plain": [
       "genre            0\n",
       "text             0\n",
       "story_line    7396\n",
       "dtype: int64"
      ]
     },
     "execution_count": 10,
     "metadata": {},
     "output_type": "execute_result"
    }
   ],
   "source": [
    "# replace rows with only contributers name with `NaN`\n",
    "dataset_df.replace(r'^[—].*', np.nan, regex=True, inplace=True)\n",
    "\n",
    "dataset_df.isna().sum()"
   ]
  },
  {
   "cell_type": "code",
   "execution_count": 11,
   "metadata": {},
   "outputs": [
    {
     "data": {
      "text/html": [
       "<div>\n",
       "<style scoped>\n",
       "    .dataframe tbody tr th:only-of-type {\n",
       "        vertical-align: middle;\n",
       "    }\n",
       "\n",
       "    .dataframe tbody tr th {\n",
       "        vertical-align: top;\n",
       "    }\n",
       "\n",
       "    .dataframe thead th {\n",
       "        text-align: right;\n",
       "    }\n",
       "</style>\n",
       "<table border=\"1\" class=\"dataframe\">\n",
       "  <thead>\n",
       "    <tr style=\"text-align: right;\">\n",
       "      <th></th>\n",
       "      <th>genre</th>\n",
       "      <th>text</th>\n",
       "      <th>story_line</th>\n",
       "    </tr>\n",
       "  </thead>\n",
       "  <tbody>\n",
       "    <tr>\n",
       "      <th>0</th>\n",
       "      <td>Short</td>\n",
       "      <td>A group of astronomers go on an expedition to ...</td>\n",
       "      <td>An association of astronomers has convened to ...</td>\n",
       "    </tr>\n",
       "    <tr>\n",
       "      <th>1</th>\n",
       "      <td>Action</td>\n",
       "      <td>Helen, informed of the danger which menaces an...</td>\n",
       "      <td>Helen, informed of the danger which menaces an...</td>\n",
       "    </tr>\n",
       "    <tr>\n",
       "      <th>2</th>\n",
       "      <td>Action</td>\n",
       "      <td>Pauline, a young maiden, must protect herself ...</td>\n",
       "      <td>Young Pauline is left a lot of money when her ...</td>\n",
       "    </tr>\n",
       "    <tr>\n",
       "      <th>3</th>\n",
       "      <td>Action</td>\n",
       "      <td>An intrepid reporter and his loyal friend batt...</td>\n",
       "      <td>An intrepid reporter and his loyal friend batt...</td>\n",
       "    </tr>\n",
       "    <tr>\n",
       "      <th>4</th>\n",
       "      <td>Horror</td>\n",
       "      <td>Hypnotist Dr. Caligari uses a somnambulist, Ce...</td>\n",
       "      <td>Francis, a young man, recalls in his memory th...</td>\n",
       "    </tr>\n",
       "  </tbody>\n",
       "</table>\n",
       "</div>"
      ],
      "text/plain": [
       "    genre                                               text  \\\n",
       "0   Short  A group of astronomers go on an expedition to ...   \n",
       "1  Action  Helen, informed of the danger which menaces an...   \n",
       "2  Action  Pauline, a young maiden, must protect herself ...   \n",
       "3  Action  An intrepid reporter and his loyal friend batt...   \n",
       "4  Horror  Hypnotist Dr. Caligari uses a somnambulist, Ce...   \n",
       "\n",
       "                                          story_line  \n",
       "0  An association of astronomers has convened to ...  \n",
       "1  Helen, informed of the danger which menaces an...  \n",
       "2  Young Pauline is left a lot of money when her ...  \n",
       "3  An intrepid reporter and his loyal friend batt...  \n",
       "4  Francis, a young man, recalls in his memory th...  "
      ]
     },
     "execution_count": 11,
     "metadata": {},
     "output_type": "execute_result"
    }
   ],
   "source": [
    "# impute the missing values of `story_line` with values from `text` column in the dataset\n",
    "dataset_df['story_line'] = dataset_df['story_line'].mask(dataset_df['story_line'].isna(), other=dataset_df['text'])\n",
    "\n",
    "dataset_df.head()"
   ]
  },
  {
   "cell_type": "code",
   "execution_count": 12,
   "metadata": {},
   "outputs": [
    {
     "data": {
      "text/plain": [
       "genre         0\n",
       "text          0\n",
       "story_line    0\n",
       "dtype: int64"
      ]
     },
     "execution_count": 12,
     "metadata": {},
     "output_type": "execute_result"
    }
   ],
   "source": [
    "# check to ensure no null values \n",
    "dataset_df.isna().sum()"
   ]
  },
  {
   "cell_type": "markdown",
   "metadata": {},
   "source": [
    "Now, we will drop the `text` column from our dataset."
   ]
  },
  {
   "cell_type": "code",
   "execution_count": 13,
   "metadata": {},
   "outputs": [
    {
     "data": {
      "text/html": [
       "<div>\n",
       "<style scoped>\n",
       "    .dataframe tbody tr th:only-of-type {\n",
       "        vertical-align: middle;\n",
       "    }\n",
       "\n",
       "    .dataframe tbody tr th {\n",
       "        vertical-align: top;\n",
       "    }\n",
       "\n",
       "    .dataframe thead th {\n",
       "        text-align: right;\n",
       "    }\n",
       "</style>\n",
       "<table border=\"1\" class=\"dataframe\">\n",
       "  <thead>\n",
       "    <tr style=\"text-align: right;\">\n",
       "      <th></th>\n",
       "      <th>genre</th>\n",
       "      <th>story_line</th>\n",
       "    </tr>\n",
       "  </thead>\n",
       "  <tbody>\n",
       "    <tr>\n",
       "      <th>0</th>\n",
       "      <td>Short</td>\n",
       "      <td>An association of astronomers has convened to ...</td>\n",
       "    </tr>\n",
       "    <tr>\n",
       "      <th>1</th>\n",
       "      <td>Action</td>\n",
       "      <td>Helen, informed of the danger which menaces an...</td>\n",
       "    </tr>\n",
       "    <tr>\n",
       "      <th>2</th>\n",
       "      <td>Action</td>\n",
       "      <td>Young Pauline is left a lot of money when her ...</td>\n",
       "    </tr>\n",
       "    <tr>\n",
       "      <th>3</th>\n",
       "      <td>Action</td>\n",
       "      <td>An intrepid reporter and his loyal friend batt...</td>\n",
       "    </tr>\n",
       "    <tr>\n",
       "      <th>4</th>\n",
       "      <td>Horror</td>\n",
       "      <td>Francis, a young man, recalls in his memory th...</td>\n",
       "    </tr>\n",
       "  </tbody>\n",
       "</table>\n",
       "</div>"
      ],
      "text/plain": [
       "    genre                                         story_line\n",
       "0   Short  An association of astronomers has convened to ...\n",
       "1  Action  Helen, informed of the danger which menaces an...\n",
       "2  Action  Young Pauline is left a lot of money when her ...\n",
       "3  Action  An intrepid reporter and his loyal friend batt...\n",
       "4  Horror  Francis, a young man, recalls in his memory th..."
      ]
     },
     "execution_count": 13,
     "metadata": {},
     "output_type": "execute_result"
    }
   ],
   "source": [
    "# drop `text` column\n",
    "dataset_df.drop(columns='text', inplace=True)\n",
    "\n",
    "dataset_df.head()"
   ]
  },
  {
   "cell_type": "markdown",
   "metadata": {},
   "source": [
    "Now, we look at the `genre` column of the dataset."
   ]
  },
  {
   "cell_type": "code",
   "execution_count": 14,
   "metadata": {},
   "outputs": [
    {
     "name": "stdout",
     "output_type": "stream",
     "text": [
      "['Short' 'Action' 'Horror' 'Fantasy' 'Comedy' 'Crime' 'Documentary'\n",
      " 'Drama' 'Adventure' 'Biography' 'Western' 'Romance' 'Music' 'Musical'\n",
      " 'Mystery' 'Family' 'Animation' 'History' 'Sci' 'War' 'Thriller' 'Film'\n",
      " 'News' 'Game' 'Reality' 'Talk' 'Sport' 'Adult']\n",
      "Total count of genre: 28\n"
     ]
    }
   ],
   "source": [
    "# check 'genre' column\n",
    "print(dataset_df['genre'].unique())\n",
    "print(f'Total count of genre: {len(dataset_df.genre.unique())}')"
   ]
  },
  {
   "cell_type": "markdown",
   "metadata": {},
   "source": [
    "We have 28 different types of `genre` in our dataset."
   ]
  },
  {
   "cell_type": "code",
   "execution_count": 15,
   "metadata": {},
   "outputs": [
    {
     "name": "stdout",
     "output_type": "stream",
     "text": [
      "<class 'pandas.core.frame.DataFrame'>\n",
      "RangeIndex: 25293 entries, 0 to 25292\n",
      "Data columns (total 2 columns):\n",
      " #   Column      Non-Null Count  Dtype   \n",
      "---  ------      --------------  -----   \n",
      " 0   genre       25293 non-null  category\n",
      " 1   story_line  25293 non-null  object  \n",
      "dtypes: category(1), object(1)\n",
      "memory usage: 223.7+ KB\n"
     ]
    }
   ],
   "source": [
    "# convert datatype of `genre` column to category\n",
    "dataset_df['genre'] = dataset_df['genre'].astype('category')\n",
    "\n",
    "dataset_df.info()"
   ]
  },
  {
   "cell_type": "code",
   "execution_count": 16,
   "metadata": {},
   "outputs": [
    {
     "data": {
      "text/plain": [
       "Comedy         5990\n",
       "Drama          5613\n",
       "Action         3935\n",
       "Crime          2210\n",
       "Animation      1556\n",
       "Adventure      1350\n",
       "Horror         1345\n",
       "Biography       855\n",
       "Documentary     601\n",
       "Western         375\n",
       "Short           236\n",
       "Thriller        189\n",
       "Mystery         169\n",
       "Family          152\n",
       "Fantasy         146\n",
       "Reality         123\n",
       "Romance         114\n",
       "Musical          78\n",
       "Sci              78\n",
       "Game             48\n",
       "Music            37\n",
       "Film             23\n",
       "History          18\n",
       "News             16\n",
       "Talk             11\n",
       "War              11\n",
       "Sport            10\n",
       "Adult             4\n",
       "Name: genre, dtype: int64"
      ]
     },
     "execution_count": 16,
     "metadata": {},
     "output_type": "execute_result"
    }
   ],
   "source": [
    "dataset_df['genre'].value_counts()"
   ]
  },
  {
   "cell_type": "markdown",
   "metadata": {},
   "source": [
    "Now, we look at the frequency distribution of the categories in `genre` column."
   ]
  },
  {
   "cell_type": "code",
   "execution_count": 17,
   "metadata": {},
   "outputs": [
    {
     "data": {
      "image/png": "[encoded data removed]",
      "text/plain": [
       "<Figure size 1080x720 with 1 Axes>"
      ]
     },
     "metadata": {
      "needs_background": "light"
     },
     "output_type": "display_data"
    }
   ],
   "source": [
    "# plot a bar graph to visualise the frequency distribution\n",
    "plt.figure(figsize=(15,10))\n",
    "\n",
    "sns.countplot(y='genre', data=dataset_df, order=dataset_df['genre'].value_counts().index)\n",
    "\n",
    "plt.xticks(size=15)\n",
    "plt.yticks(size=15)\n",
    "plt.xlabel(xlabel='Count', size=20)\n",
    "plt.ylabel(ylabel='Genres', size=20)\n",
    "\n",
    "plt.show()"
   ]
  },
  {
   "cell_type": "markdown",
   "metadata": {},
   "source": [
    "### Data Pre-processing\n",
    "\n",
    "Now, to carry out text analysis on the `story_line` column, we have to carry out certain pre-processing steps to transform the text data into a form which is understandable by the algorithms.\n",
    "\n",
    "We carry out the following steps:\n",
    "1. consider only alphabets and discard other types of characters in the text.\n",
    "2. tokenisation of the paragraphs of text into words.\n",
    "3. convert all the tokens into lower case words.\n",
    "4. remove stopwords from the dataset.\n",
    "5. lemmatisation of the words into their base words.\n",
    "\n",
    "Below we carry out the above mentioned steps."
   ]
  },
  {
   "cell_type": "code",
   "execution_count": 18,
   "metadata": {},
   "outputs": [
    {
     "data": {
      "text/plain": [
       "0    An association of astronomers has convened to ...\n",
       "1    Helen  informed of the danger which menaces an...\n",
       "2    Young Pauline is left a lot of money when her ...\n",
       "3    An intrepid reporter and his loyal friend batt...\n",
       "4    Francis  a young man  recalls in his memory th...\n",
       "Name: story_line, dtype: object"
      ]
     },
     "execution_count": 18,
     "metadata": {},
     "output_type": "execute_result"
    }
   ],
   "source": [
    "# using regex on the `story_line` column to consider only alphabets\n",
    "dataset_df['story_line'] = dataset_df['story_line'].astype(str)\n",
    "dataset_df['story_line'] = dataset_df['story_line'].map(lambda x: re.sub(\"[^a-zA-Z]\",\" \", x))\n",
    "\n",
    "dataset_df['story_line'].head()"
   ]
  },
  {
   "cell_type": "code",
   "execution_count": 19,
   "metadata": {},
   "outputs": [
    {
     "data": {
      "text/plain": [
       "0    [An, association, of, astronomers, has, conven...\n",
       "1    [Helen, informed, of, the, danger, which, mena...\n",
       "2    [Young, Pauline, is, left, a, lot, of, money, ...\n",
       "3    [An, intrepid, reporter, and, his, loyal, frie...\n",
       "4    [Francis, a, young, man, recalls, in, his, mem...\n",
       "Name: story_tokens, dtype: object"
      ]
     },
     "execution_count": 19,
     "metadata": {},
     "output_type": "execute_result"
    }
   ],
   "source": [
    "# tokenise the paragraphs of `story_line` into words\n",
    "dataset_df['story_tokens'] = dataset_df['story_line'].map(word_tokenize)\n",
    "\n",
    "dataset_df['story_tokens'].head()"
   ]
  },
  {
   "cell_type": "code",
   "execution_count": 20,
   "metadata": {},
   "outputs": [
    {
     "data": {
      "text/plain": [
       "0    [an, association, of, astronomers, has, conven...\n",
       "1    [helen, informed, of, the, danger, which, mena...\n",
       "2    [young, pauline, is, left, a, lot, of, money, ...\n",
       "3    [an, intrepid, reporter, and, his, loyal, frie...\n",
       "4    [francis, a, young, man, recalls, in, his, mem...\n",
       "Name: story_tokens, dtype: object"
      ]
     },
     "execution_count": 20,
     "metadata": {},
     "output_type": "execute_result"
    }
   ],
   "source": [
    "# transform all tokens to lower case\n",
    "dataset_df['story_tokens'] = dataset_df['story_tokens'].map(lambda x: [w.lower() for w in x])\n",
    "\n",
    "dataset_df['story_tokens'].head()"
   ]
  },
  {
   "cell_type": "code",
   "execution_count": 21,
   "metadata": {},
   "outputs": [
    {
     "data": {
      "text/plain": [
       "0    [association, astronomers, convened, listen, p...\n",
       "1    [helen, informed, danger, menaces, excursion, ...\n",
       "2    [young, pauline, left, lot, money, wealthy, un...\n",
       "3    [intrepid, reporter, loyal, friend, battle, bi...\n",
       "4    [francis, young, man, recalls, memory, horribl...\n",
       "Name: story_tokens, dtype: object"
      ]
     },
     "execution_count": 21,
     "metadata": {},
     "output_type": "execute_result"
    }
   ],
   "source": [
    "# remove stopwords\n",
    "stop = set(stopwords.words('english'))\n",
    "\n",
    "dataset_df['story_tokens'] = dataset_df['story_tokens'].map(lambda x: [w for w in x if w not in stop])\n",
    "\n",
    "dataset_df['story_tokens'].head()"
   ]
  },
  {
   "cell_type": "code",
   "execution_count": 22,
   "metadata": {},
   "outputs": [
    {
     "data": {
      "text/plain": [
       "0    [association, astronomer, convened, listen, pl...\n",
       "1    [helen, informed, danger, menace, excursion, t...\n",
       "2    [young, pauline, left, lot, money, wealthy, un...\n",
       "3    [intrepid, reporter, loyal, friend, battle, bi...\n",
       "4    [francis, young, man, recall, memory, horrible...\n",
       "Name: story_tokens, dtype: object"
      ]
     },
     "execution_count": 22,
     "metadata": {},
     "output_type": "execute_result"
    }
   ],
   "source": [
    "# lemmatise the tokens\n",
    "lemmatiser = WordNetLemmatizer()\n",
    "\n",
    "dataset_df['story_tokens'] = dataset_df['story_tokens'].map(lambda x: [lemmatiser.lemmatize(w) for w in x])\n",
    "\n",
    "dataset_df['story_tokens'].head()"
   ]
  },
  {
   "cell_type": "markdown",
   "metadata": {},
   "source": [
    "Now, we drop the `story_line` column from the dataframe as we have extracted the desired tokens from the sentences in `story_tokens` column"
   ]
  },
  {
   "cell_type": "code",
   "execution_count": 23,
   "metadata": {},
   "outputs": [
    {
     "data": {
      "text/html": [
       "<div>\n",
       "<style scoped>\n",
       "    .dataframe tbody tr th:only-of-type {\n",
       "        vertical-align: middle;\n",
       "    }\n",
       "\n",
       "    .dataframe tbody tr th {\n",
       "        vertical-align: top;\n",
       "    }\n",
       "\n",
       "    .dataframe thead th {\n",
       "        text-align: right;\n",
       "    }\n",
       "</style>\n",
       "<table border=\"1\" class=\"dataframe\">\n",
       "  <thead>\n",
       "    <tr style=\"text-align: right;\">\n",
       "      <th></th>\n",
       "      <th>genre</th>\n",
       "      <th>story_tokens</th>\n",
       "    </tr>\n",
       "  </thead>\n",
       "  <tbody>\n",
       "    <tr>\n",
       "      <th>0</th>\n",
       "      <td>Short</td>\n",
       "      <td>[association, astronomer, convened, listen, pl...</td>\n",
       "    </tr>\n",
       "    <tr>\n",
       "      <th>1</th>\n",
       "      <td>Action</td>\n",
       "      <td>[helen, informed, danger, menace, excursion, t...</td>\n",
       "    </tr>\n",
       "    <tr>\n",
       "      <th>2</th>\n",
       "      <td>Action</td>\n",
       "      <td>[young, pauline, left, lot, money, wealthy, un...</td>\n",
       "    </tr>\n",
       "    <tr>\n",
       "      <th>3</th>\n",
       "      <td>Action</td>\n",
       "      <td>[intrepid, reporter, loyal, friend, battle, bi...</td>\n",
       "    </tr>\n",
       "    <tr>\n",
       "      <th>4</th>\n",
       "      <td>Horror</td>\n",
       "      <td>[francis, young, man, recall, memory, horrible...</td>\n",
       "    </tr>\n",
       "  </tbody>\n",
       "</table>\n",
       "</div>"
      ],
      "text/plain": [
       "    genre                                       story_tokens\n",
       "0   Short  [association, astronomer, convened, listen, pl...\n",
       "1  Action  [helen, informed, danger, menace, excursion, t...\n",
       "2  Action  [young, pauline, left, lot, money, wealthy, un...\n",
       "3  Action  [intrepid, reporter, loyal, friend, battle, bi...\n",
       "4  Horror  [francis, young, man, recall, memory, horrible..."
      ]
     },
     "execution_count": 23,
     "metadata": {},
     "output_type": "execute_result"
    }
   ],
   "source": [
    "# drop `story_line` column\n",
    "dataset_df.drop(columns='story_line', inplace=True)\n",
    "\n",
    "dataset_df.head()"
   ]
  },
  {
   "cell_type": "code",
   "execution_count": 24,
   "metadata": {},
   "outputs": [
    {
     "data": {
      "text/html": [
       "<div>\n",
       "<style scoped>\n",
       "    .dataframe tbody tr th:only-of-type {\n",
       "        vertical-align: middle;\n",
       "    }\n",
       "\n",
       "    .dataframe tbody tr th {\n",
       "        vertical-align: top;\n",
       "    }\n",
       "\n",
       "    .dataframe thead th {\n",
       "        text-align: right;\n",
       "    }\n",
       "</style>\n",
       "<table border=\"1\" class=\"dataframe\">\n",
       "  <thead>\n",
       "    <tr style=\"text-align: right;\">\n",
       "      <th></th>\n",
       "      <th>genre</th>\n",
       "      <th>story_tokens</th>\n",
       "    </tr>\n",
       "  </thead>\n",
       "  <tbody>\n",
       "    <tr>\n",
       "      <th>0</th>\n",
       "      <td>Short</td>\n",
       "      <td>association astronomer convened listen plan pr...</td>\n",
       "    </tr>\n",
       "    <tr>\n",
       "      <th>1</th>\n",
       "      <td>Action</td>\n",
       "      <td>helen informed danger menace excursion train a...</td>\n",
       "    </tr>\n",
       "    <tr>\n",
       "      <th>2</th>\n",
       "      <td>Action</td>\n",
       "      <td>young pauline left lot money wealthy uncle dy ...</td>\n",
       "    </tr>\n",
       "    <tr>\n",
       "      <th>3</th>\n",
       "      <td>Action</td>\n",
       "      <td>intrepid reporter loyal friend battle bizarre ...</td>\n",
       "    </tr>\n",
       "    <tr>\n",
       "      <th>4</th>\n",
       "      <td>Horror</td>\n",
       "      <td>francis young man recall memory horrible exper...</td>\n",
       "    </tr>\n",
       "  </tbody>\n",
       "</table>\n",
       "</div>"
      ],
      "text/plain": [
       "    genre                                       story_tokens\n",
       "0   Short  association astronomer convened listen plan pr...\n",
       "1  Action  helen informed danger menace excursion train a...\n",
       "2  Action  young pauline left lot money wealthy uncle dy ...\n",
       "3  Action  intrepid reporter loyal friend battle bizarre ...\n",
       "4  Horror  francis young man recall memory horrible exper..."
      ]
     },
     "execution_count": 24,
     "metadata": {},
     "output_type": "execute_result"
    }
   ],
   "source": [
    "# convert numpy arrays back to single string for the `story_tokens` column\n",
    "dataset_df['story_tokens'] = dataset_df['story_tokens'].map(lambda x: \" \".join(x))\n",
    "\n",
    "dataset_df.head()"
   ]
  },
  {
   "cell_type": "markdown",
   "metadata": {},
   "source": [
    "### Label Encoding\n",
    "\n",
    "We then encode the target variable to transform the categorical values into numerical values which the model can understand."
   ]
  },
  {
   "cell_type": "code",
   "execution_count": 25,
   "metadata": {},
   "outputs": [
    {
     "data": {
      "text/html": [
       "<div>\n",
       "<style scoped>\n",
       "    .dataframe tbody tr th:only-of-type {\n",
       "        vertical-align: middle;\n",
       "    }\n",
       "\n",
       "    .dataframe tbody tr th {\n",
       "        vertical-align: top;\n",
       "    }\n",
       "\n",
       "    .dataframe thead th {\n",
       "        text-align: right;\n",
       "    }\n",
       "</style>\n",
       "<table border=\"1\" class=\"dataframe\">\n",
       "  <thead>\n",
       "    <tr style=\"text-align: right;\">\n",
       "      <th></th>\n",
       "      <th>genre</th>\n",
       "      <th>story_tokens</th>\n",
       "      <th>genre_encode</th>\n",
       "    </tr>\n",
       "  </thead>\n",
       "  <tbody>\n",
       "    <tr>\n",
       "      <th>0</th>\n",
       "      <td>Short</td>\n",
       "      <td>association astronomer convened listen plan pr...</td>\n",
       "      <td>22</td>\n",
       "    </tr>\n",
       "    <tr>\n",
       "      <th>1</th>\n",
       "      <td>Action</td>\n",
       "      <td>helen informed danger menace excursion train a...</td>\n",
       "      <td>0</td>\n",
       "    </tr>\n",
       "    <tr>\n",
       "      <th>2</th>\n",
       "      <td>Action</td>\n",
       "      <td>young pauline left lot money wealthy uncle dy ...</td>\n",
       "      <td>0</td>\n",
       "    </tr>\n",
       "    <tr>\n",
       "      <th>3</th>\n",
       "      <td>Action</td>\n",
       "      <td>intrepid reporter loyal friend battle bizarre ...</td>\n",
       "      <td>0</td>\n",
       "    </tr>\n",
       "    <tr>\n",
       "      <th>4</th>\n",
       "      <td>Horror</td>\n",
       "      <td>francis young man recall memory horrible exper...</td>\n",
       "      <td>14</td>\n",
       "    </tr>\n",
       "  </tbody>\n",
       "</table>\n",
       "</div>"
      ],
      "text/plain": [
       "    genre                                       story_tokens  genre_encode\n",
       "0   Short  association astronomer convened listen plan pr...            22\n",
       "1  Action  helen informed danger menace excursion train a...             0\n",
       "2  Action  young pauline left lot money wealthy uncle dy ...             0\n",
       "3  Action  intrepid reporter loyal friend battle bizarre ...             0\n",
       "4  Horror  francis young man recall memory horrible exper...            14"
      ]
     },
     "execution_count": 25,
     "metadata": {},
     "output_type": "execute_result"
    }
   ],
   "source": [
    "# encode the target labels\n",
    "encoder = LabelEncoder()\n",
    "\n",
    "dataset_df['genre_encode'] = encoder.fit_transform(dataset_df['genre'])\n",
    "\n",
    "dataset_df.head()"
   ]
  },
  {
   "cell_type": "code",
   "execution_count": 26,
   "metadata": {},
   "outputs": [
    {
     "data": {
      "text/html": [
       "<div>\n",
       "<style scoped>\n",
       "    .dataframe tbody tr th:only-of-type {\n",
       "        vertical-align: middle;\n",
       "    }\n",
       "\n",
       "    .dataframe tbody tr th {\n",
       "        vertical-align: top;\n",
       "    }\n",
       "\n",
       "    .dataframe thead th {\n",
       "        text-align: right;\n",
       "    }\n",
       "</style>\n",
       "<table border=\"1\" class=\"dataframe\">\n",
       "  <thead>\n",
       "    <tr style=\"text-align: right;\">\n",
       "      <th></th>\n",
       "      <th>genre</th>\n",
       "      <th>genre_encode</th>\n",
       "    </tr>\n",
       "  </thead>\n",
       "  <tbody>\n",
       "    <tr>\n",
       "      <th>0</th>\n",
       "      <td>Action</td>\n",
       "      <td>0</td>\n",
       "    </tr>\n",
       "    <tr>\n",
       "      <th>1</th>\n",
       "      <td>Adult</td>\n",
       "      <td>1</td>\n",
       "    </tr>\n",
       "    <tr>\n",
       "      <th>2</th>\n",
       "      <td>Adventure</td>\n",
       "      <td>2</td>\n",
       "    </tr>\n",
       "    <tr>\n",
       "      <th>3</th>\n",
       "      <td>Animation</td>\n",
       "      <td>3</td>\n",
       "    </tr>\n",
       "    <tr>\n",
       "      <th>4</th>\n",
       "      <td>Biography</td>\n",
       "      <td>4</td>\n",
       "    </tr>\n",
       "    <tr>\n",
       "      <th>5</th>\n",
       "      <td>Comedy</td>\n",
       "      <td>5</td>\n",
       "    </tr>\n",
       "    <tr>\n",
       "      <th>6</th>\n",
       "      <td>Crime</td>\n",
       "      <td>6</td>\n",
       "    </tr>\n",
       "    <tr>\n",
       "      <th>7</th>\n",
       "      <td>Documentary</td>\n",
       "      <td>7</td>\n",
       "    </tr>\n",
       "    <tr>\n",
       "      <th>8</th>\n",
       "      <td>Drama</td>\n",
       "      <td>8</td>\n",
       "    </tr>\n",
       "    <tr>\n",
       "      <th>9</th>\n",
       "      <td>Family</td>\n",
       "      <td>9</td>\n",
       "    </tr>\n",
       "    <tr>\n",
       "      <th>10</th>\n",
       "      <td>Fantasy</td>\n",
       "      <td>10</td>\n",
       "    </tr>\n",
       "    <tr>\n",
       "      <th>11</th>\n",
       "      <td>Film</td>\n",
       "      <td>11</td>\n",
       "    </tr>\n",
       "    <tr>\n",
       "      <th>12</th>\n",
       "      <td>Game</td>\n",
       "      <td>12</td>\n",
       "    </tr>\n",
       "    <tr>\n",
       "      <th>13</th>\n",
       "      <td>History</td>\n",
       "      <td>13</td>\n",
       "    </tr>\n",
       "    <tr>\n",
       "      <th>14</th>\n",
       "      <td>Horror</td>\n",
       "      <td>14</td>\n",
       "    </tr>\n",
       "    <tr>\n",
       "      <th>15</th>\n",
       "      <td>Music</td>\n",
       "      <td>15</td>\n",
       "    </tr>\n",
       "    <tr>\n",
       "      <th>16</th>\n",
       "      <td>Musical</td>\n",
       "      <td>16</td>\n",
       "    </tr>\n",
       "    <tr>\n",
       "      <th>17</th>\n",
       "      <td>Mystery</td>\n",
       "      <td>17</td>\n",
       "    </tr>\n",
       "    <tr>\n",
       "      <th>18</th>\n",
       "      <td>News</td>\n",
       "      <td>18</td>\n",
       "    </tr>\n",
       "    <tr>\n",
       "      <th>19</th>\n",
       "      <td>Reality</td>\n",
       "      <td>19</td>\n",
       "    </tr>\n",
       "    <tr>\n",
       "      <th>20</th>\n",
       "      <td>Romance</td>\n",
       "      <td>20</td>\n",
       "    </tr>\n",
       "    <tr>\n",
       "      <th>21</th>\n",
       "      <td>Sci</td>\n",
       "      <td>21</td>\n",
       "    </tr>\n",
       "    <tr>\n",
       "      <th>22</th>\n",
       "      <td>Short</td>\n",
       "      <td>22</td>\n",
       "    </tr>\n",
       "    <tr>\n",
       "      <th>23</th>\n",
       "      <td>Sport</td>\n",
       "      <td>23</td>\n",
       "    </tr>\n",
       "    <tr>\n",
       "      <th>24</th>\n",
       "      <td>Talk</td>\n",
       "      <td>24</td>\n",
       "    </tr>\n",
       "    <tr>\n",
       "      <th>25</th>\n",
       "      <td>Thriller</td>\n",
       "      <td>25</td>\n",
       "    </tr>\n",
       "    <tr>\n",
       "      <th>26</th>\n",
       "      <td>War</td>\n",
       "      <td>26</td>\n",
       "    </tr>\n",
       "    <tr>\n",
       "      <th>27</th>\n",
       "      <td>Western</td>\n",
       "      <td>27</td>\n",
       "    </tr>\n",
       "  </tbody>\n",
       "</table>\n",
       "</div>"
      ],
      "text/plain": [
       "          genre  genre_encode\n",
       "0        Action             0\n",
       "1         Adult             1\n",
       "2     Adventure             2\n",
       "3     Animation             3\n",
       "4     Biography             4\n",
       "5        Comedy             5\n",
       "6         Crime             6\n",
       "7   Documentary             7\n",
       "8         Drama             8\n",
       "9        Family             9\n",
       "10      Fantasy            10\n",
       "11         Film            11\n",
       "12         Game            12\n",
       "13      History            13\n",
       "14       Horror            14\n",
       "15        Music            15\n",
       "16      Musical            16\n",
       "17      Mystery            17\n",
       "18         News            18\n",
       "19      Reality            19\n",
       "20      Romance            20\n",
       "21          Sci            21\n",
       "22        Short            22\n",
       "23        Sport            23\n",
       "24         Talk            24\n",
       "25     Thriller            25\n",
       "26          War            26\n",
       "27      Western            27"
      ]
     },
     "execution_count": 26,
     "metadata": {},
     "output_type": "execute_result"
    }
   ],
   "source": [
    "encoded_genre = dataset_df[['genre', 'genre_encode']].drop_duplicates().\\\n",
    "                                            sort_values(by=['genre_encode']).\\\n",
    "                                            reset_index(drop=True)\n",
    "\n",
    "encoded_genre"
   ]
  },
  {
   "cell_type": "markdown",
   "metadata": {},
   "source": [
    "### Splitting the dataset for training and testing\n",
    "\n",
    "Now, we have our dataset ready to build a model to predict the genre based on the tokens extracted from the story line of the movies.\n",
    "\n",
    "We begin by splitting the dataset into a training and testing dataset. 80% of the dataset will be used for training the model and 20% of the dataset will be unseen data for the model to test against it."
   ]
  },
  {
   "cell_type": "code",
   "execution_count": 27,
   "metadata": {},
   "outputs": [],
   "source": [
    "# split the dataset in a stratified manner\n",
    "train_X, test_X, train_Y, test_Y = train_test_split(dataset_df['story_tokens'], dataset_df['genre_encode'],\n",
    "                                                    test_size=0.2, random_state=143, stratify=dataset_df['genre_encode'])"
   ]
  },
  {
   "cell_type": "code",
   "execution_count": 28,
   "metadata": {},
   "outputs": [
    {
     "data": {
      "text/plain": [
       "14510    college girl janie inherits rundown strip club...\n",
       "2628     holmes watson recruited serpentine fashion esc...\n",
       "7194     bruno stroszek released prison warned stop dri...\n",
       "4207     one vivid depiction horror nazi concentration ...\n",
       "1553     pre civil war south plantation owner dy leaf p...\n",
       "Name: story_tokens, dtype: object"
      ]
     },
     "execution_count": 28,
     "metadata": {},
     "output_type": "execute_result"
    }
   ],
   "source": [
    "# view the independent features of the training dataset\n",
    "train_X.head()"
   ]
  },
  {
   "cell_type": "code",
   "execution_count": 29,
   "metadata": {},
   "outputs": [
    {
     "name": "stdout",
     "output_type": "stream",
     "text": [
      "Counter({5: 4792, 8: 4490, 0: 3148, 6: 1768, 3: 1245, 2: 1080, 14: 1076, 4: 684, 7: 481, 27: 300, 22: 189, 25: 151, 17: 135, 9: 122, 10: 117, 19: 98, 20: 91, 21: 62, 16: 62, 12: 38, 15: 30, 11: 18, 13: 15, 18: 13, 26: 9, 24: 9, 23: 8, 1: 3})\n",
      "Counter({5: 1198, 8: 1123, 0: 787, 6: 442, 3: 311, 2: 270, 14: 269, 4: 171, 7: 120, 27: 75, 22: 47, 25: 38, 17: 34, 9: 30, 10: 29, 19: 25, 20: 23, 21: 16, 16: 16, 12: 10, 15: 7, 11: 5, 18: 3, 13: 3, 26: 2, 24: 2, 23: 2, 1: 1})\n"
     ]
    }
   ],
   "source": [
    "# verify similar proportions of class distribution in training and testing dataset\n",
    "print(Counter(train_Y))\n",
    "print(Counter(test_Y))"
   ]
  },
  {
   "cell_type": "markdown",
   "metadata": {},
   "source": [
    "### Word Vectorisation\n",
    "\n",
    "Now, we convert the text data into numerical features so that the algorithms can understand the different tokens.\n",
    "\n",
    "There are different ways to vectorise our text data:\n",
    "1. Bag of Words (BoW) using Count Vectorizer\n",
    "2. Term Frequency - Inverse Document Frequency (TF-IDF)\n",
    "\n",
    "We will use both the above methods to vectorise our training dataset and compare them later on."
   ]
  },
  {
   "cell_type": "markdown",
   "metadata": {},
   "source": [
    "##### Bag of Words using Count Vectorizer"
   ]
  },
  {
   "cell_type": "code",
   "execution_count": 30,
   "metadata": {},
   "outputs": [],
   "source": [
    "# create a bag of words\n",
    "bow_vectorizer = CountVectorizer()\n",
    "\n",
    "# fit and transform the train_X dataset\n",
    "train_X_bow = bow_vectorizer.fit_transform(train_X)\n",
    "\n",
    "# transform the test_X dataset\n",
    "test_X_bow = bow_vectorizer.transform(test_X)"
   ]
  },
  {
   "cell_type": "markdown",
   "metadata": {},
   "source": [
    "##### Term Frequency-Inverse Document Frequency"
   ]
  },
  {
   "cell_type": "code",
   "execution_count": 31,
   "metadata": {},
   "outputs": [],
   "source": [
    "# vectorise using tf-idf\n",
    "tfidf_vectoriser = TfidfVectorizer()\n",
    "\n",
    "# fit and transform the train_X dataset\n",
    "train_X_tfidf= tfidf_vectoriser.fit_transform(train_X)\n",
    "\n",
    "# transform the test_X dataset\n",
    "test_X_tfidf = tfidf_vectoriser.transform(test_X)"
   ]
  },
  {
   "cell_type": "markdown",
   "metadata": {},
   "source": [
    "### Using ML algorithms to build models to predict the genre\n",
    "\n",
    "Now, we will use machine learning algorithms to predict the genre of the movies in the testing dataset.\n",
    "\n",
    "There are different algorithms which we can use for this purpose.  \n",
    "Here we will be using:\n",
    "1. Multinomial Naive Bayes\n",
    "2. Support Vector Machine (SVM)"
   ]
  },
  {
   "cell_type": "markdown",
   "metadata": {},
   "source": [
    "##### Multinomial Naive Bayes"
   ]
  },
  {
   "cell_type": "markdown",
   "metadata": {},
   "source": [
    "##### a. Bag of Words based word vectorisation"
   ]
  },
  {
   "cell_type": "code",
   "execution_count": 32,
   "metadata": {},
   "outputs": [],
   "source": [
    "# fit the Naive Bayes classifier on the training data\n",
    "nb_bow = MultinomialNB()\n",
    "nb_bow.fit(train_X_bow, train_Y)\n",
    "\n",
    "# predict the labels on the testing data\n",
    "prediction_nb_bow = nb_bow.predict(test_X_bow)"
   ]
  },
  {
   "cell_type": "code",
   "execution_count": 33,
   "metadata": {},
   "outputs": [
    {
     "name": "stdout",
     "output_type": "stream",
     "text": [
      "F1 score: 0.47\n"
     ]
    }
   ],
   "source": [
    "# check F1 score of model\n",
    "print(f\"F1 score: {f1_score(test_Y, prediction_nb_bow, average='micro'):.2f}\")"
   ]
  },
  {
   "cell_type": "code",
   "execution_count": 34,
   "metadata": {},
   "outputs": [
    {
     "name": "stdout",
     "output_type": "stream",
     "text": [
      "              precision    recall  f1-score   support\n",
      "\n",
      "      Action       0.45      0.67      0.54       787\n",
      "       Adult       0.00      0.00      0.00         1\n",
      "   Adventure       0.51      0.08      0.14       270\n",
      "   Animation       0.72      0.20      0.32       311\n",
      "   Biography       0.64      0.04      0.08       171\n",
      "      Comedy       0.49      0.74      0.59      1198\n",
      "       Crime       0.51      0.30      0.38       442\n",
      " Documentary       0.62      0.07      0.12       120\n",
      "       Drama       0.43      0.61      0.51      1123\n",
      "      Family       0.00      0.00      0.00        30\n",
      "     Fantasy       0.00      0.00      0.00        29\n",
      "        Film       0.00      0.00      0.00         5\n",
      "        Game       0.00      0.00      0.00        10\n",
      "     History       0.00      0.00      0.00         3\n",
      "      Horror       0.57      0.14      0.23       269\n",
      "       Music       0.00      0.00      0.00         7\n",
      "     Musical       0.00      0.00      0.00        16\n",
      "     Mystery       0.00      0.00      0.00        34\n",
      "        News       0.00      0.00      0.00         3\n",
      "     Reality       0.00      0.00      0.00        25\n",
      "     Romance       0.00      0.00      0.00        23\n",
      "         Sci       0.00      0.00      0.00        16\n",
      "       Short       0.00      0.00      0.00        47\n",
      "       Sport       0.00      0.00      0.00         2\n",
      "        Talk       0.00      0.00      0.00         2\n",
      "    Thriller       0.00      0.00      0.00        38\n",
      "         War       0.00      0.00      0.00         2\n",
      "     Western       0.71      0.07      0.12        75\n",
      "\n",
      "    accuracy                           0.47      5059\n",
      "   macro avg       0.20      0.10      0.11      5059\n",
      "weighted avg       0.47      0.47      0.41      5059\n",
      "\n"
     ]
    }
   ],
   "source": [
    "# check classification report of model\n",
    "cr_nb_bow = classification_report(test_Y, prediction_nb_bow, target_names=list(encoded_genre['genre']), zero_division=0)\n",
    "\n",
    "print(cr_nb_bow)"
   ]
  },
  {
   "cell_type": "markdown",
   "metadata": {},
   "source": [
    "##### b. TF-IDF based word vectorisation"
   ]
  },
  {
   "cell_type": "code",
   "execution_count": 35,
   "metadata": {},
   "outputs": [],
   "source": [
    "# fit the Naive Bayes classifier on the training data\n",
    "nb_tfidf = MultinomialNB()\n",
    "nb_tfidf.fit(train_X_tfidf, train_Y)\n",
    "\n",
    "# predict the labels on the testing data\n",
    "prediction_nb_tfidf = nb_tfidf.predict(test_X_tfidf)"
   ]
  },
  {
   "cell_type": "code",
   "execution_count": 36,
   "metadata": {},
   "outputs": [
    {
     "name": "stdout",
     "output_type": "stream",
     "text": [
      "F1 score: 0.40\n"
     ]
    }
   ],
   "source": [
    "# check F1 score of model\n",
    "print(f\"F1 score: {f1_score(test_Y, prediction_nb_tfidf, average='micro'):.2f}\")"
   ]
  },
  {
   "cell_type": "code",
   "execution_count": 37,
   "metadata": {},
   "outputs": [
    {
     "name": "stdout",
     "output_type": "stream",
     "text": [
      "              precision    recall  f1-score   support\n",
      "\n",
      "      Action       0.52      0.43      0.47       787\n",
      "       Adult       0.00      0.00      0.00         1\n",
      "   Adventure       0.00      0.00      0.00       270\n",
      "   Animation       1.00      0.00      0.01       311\n",
      "   Biography       0.00      0.00      0.00       171\n",
      "      Comedy       0.39      0.84      0.54      1198\n",
      "       Crime       0.83      0.01      0.02       442\n",
      " Documentary       0.00      0.00      0.00       120\n",
      "       Drama       0.37      0.60      0.46      1123\n",
      "      Family       0.00      0.00      0.00        30\n",
      "     Fantasy       0.00      0.00      0.00        29\n",
      "        Film       0.00      0.00      0.00         5\n",
      "        Game       0.00      0.00      0.00        10\n",
      "     History       0.00      0.00      0.00         3\n",
      "      Horror       0.00      0.00      0.00       269\n",
      "       Music       0.00      0.00      0.00         7\n",
      "     Musical       0.00      0.00      0.00        16\n",
      "     Mystery       0.00      0.00      0.00        34\n",
      "        News       0.00      0.00      0.00         3\n",
      "     Reality       0.00      0.00      0.00        25\n",
      "     Romance       0.00      0.00      0.00        23\n",
      "         Sci       0.00      0.00      0.00        16\n",
      "       Short       0.00      0.00      0.00        47\n",
      "       Sport       0.00      0.00      0.00         2\n",
      "        Talk       0.00      0.00      0.00         2\n",
      "    Thriller       0.00      0.00      0.00        38\n",
      "         War       0.00      0.00      0.00         2\n",
      "     Western       0.00      0.00      0.00        75\n",
      "\n",
      "    accuracy                           0.40      5059\n",
      "   macro avg       0.11      0.07      0.05      5059\n",
      "weighted avg       0.39      0.40      0.30      5059\n",
      "\n"
     ]
    }
   ],
   "source": [
    "# check classification report of model\n",
    "cr_nb_tfidf = classification_report(test_Y, prediction_nb_tfidf, target_names=list(encoded_genre['genre']), zero_division=0)\n",
    "\n",
    "print(cr_nb_tfidf)"
   ]
  },
  {
   "cell_type": "markdown",
   "metadata": {},
   "source": [
    "##### Support Vector Machine (SVM)"
   ]
  },
  {
   "cell_type": "markdown",
   "metadata": {},
   "source": [
    "##### a. Bag of Words based word vectorisation"
   ]
  },
  {
   "cell_type": "code",
   "execution_count": 38,
   "metadata": {},
   "outputs": [],
   "source": [
    "# fit the Support Vector Classifier on the training data\n",
    "svm_bow = SVC()\n",
    "svm_bow.fit(train_X_bow, train_Y)\n",
    "\n",
    "# predict the labels on the testing data\n",
    "prediction_svm_bow = svm_bow.predict(test_X_bow)"
   ]
  },
  {
   "cell_type": "code",
   "execution_count": 39,
   "metadata": {},
   "outputs": [
    {
     "name": "stdout",
     "output_type": "stream",
     "text": [
      "F1 score: 0.45\n"
     ]
    }
   ],
   "source": [
    "# check F1 score of model\n",
    "print(f\"F1 score: {f1_score(test_Y, prediction_svm_bow, average='micro'):.2f}\")"
   ]
  },
  {
   "cell_type": "code",
   "execution_count": 40,
   "metadata": {},
   "outputs": [
    {
     "name": "stdout",
     "output_type": "stream",
     "text": [
      "              precision    recall  f1-score   support\n",
      "\n",
      "      Action       0.48      0.56      0.52       787\n",
      "       Adult       0.00      0.00      0.00         1\n",
      "   Adventure       0.47      0.03      0.06       270\n",
      "   Animation       0.61      0.16      0.26       311\n",
      "   Biography       0.50      0.01      0.02       171\n",
      "      Comedy       0.44      0.72      0.54      1198\n",
      "       Crime       0.50      0.32      0.39       442\n",
      " Documentary       0.86      0.21      0.34       120\n",
      "       Drama       0.41      0.61      0.49      1123\n",
      "      Family       0.00      0.00      0.00        30\n",
      "     Fantasy       0.00      0.00      0.00        29\n",
      "        Film       0.00      0.00      0.00         5\n",
      "        Game       0.00      0.00      0.00        10\n",
      "     History       0.00      0.00      0.00         3\n",
      "      Horror       0.58      0.17      0.27       269\n",
      "       Music       0.00      0.00      0.00         7\n",
      "     Musical       0.00      0.00      0.00        16\n",
      "     Mystery       0.00      0.00      0.00        34\n",
      "        News       0.00      0.00      0.00         3\n",
      "     Reality       0.00      0.00      0.00        25\n",
      "     Romance       0.00      0.00      0.00        23\n",
      "         Sci       0.00      0.00      0.00        16\n",
      "       Short       0.00      0.00      0.00        47\n",
      "       Sport       0.00      0.00      0.00         2\n",
      "        Talk       0.00      0.00      0.00         2\n",
      "    Thriller       0.00      0.00      0.00        38\n",
      "         War       0.00      0.00      0.00         2\n",
      "     Western       0.69      0.12      0.20        75\n",
      "\n",
      "    accuracy                           0.45      5059\n",
      "   macro avg       0.20      0.10      0.11      5059\n",
      "weighted avg       0.46      0.45      0.40      5059\n",
      "\n"
     ]
    }
   ],
   "source": [
    "# check performance of model\n",
    "cr_svm_bow = classification_report(test_Y, prediction_svm_bow, target_names=list(encoded_genre['genre']), zero_division=0)\n",
    "\n",
    "print(cr_svm_bow)"
   ]
  },
  {
   "cell_type": "markdown",
   "metadata": {},
   "source": [
    "##### b. TF-IDF based word vectorisation"
   ]
  },
  {
   "cell_type": "code",
   "execution_count": 41,
   "metadata": {},
   "outputs": [],
   "source": [
    "# fit the Support Vector classifier on the training data\n",
    "svm_tfidf = SVC()\n",
    "svm_tfidf.fit(train_X_tfidf, train_Y)\n",
    "\n",
    "# predict the labels on the testing data\n",
    "prediction_svm_tfidf = svm_tfidf.predict(test_X_tfidf)"
   ]
  },
  {
   "cell_type": "code",
   "execution_count": 42,
   "metadata": {},
   "outputs": [
    {
     "name": "stdout",
     "output_type": "stream",
     "text": [
      "F1 score: 0.47\n"
     ]
    }
   ],
   "source": [
    "# check F1 score of model\n",
    "print(f\"F1 score: {f1_score(test_Y, prediction_svm_tfidf, average='micro'):.2f}\")"
   ]
  },
  {
   "cell_type": "code",
   "execution_count": 43,
   "metadata": {},
   "outputs": [
    {
     "name": "stdout",
     "output_type": "stream",
     "text": [
      "              precision    recall  f1-score   support\n",
      "\n",
      "      Action       0.48      0.61      0.54       787\n",
      "       Adult       0.00      0.00      0.00         1\n",
      "   Adventure       0.52      0.05      0.09       270\n",
      "   Animation       0.73      0.23      0.35       311\n",
      "   Biography       0.50      0.01      0.02       171\n",
      "      Comedy       0.47      0.72      0.57      1198\n",
      "       Crime       0.54      0.33      0.41       442\n",
      " Documentary       0.78      0.15      0.25       120\n",
      "       Drama       0.43      0.64      0.51      1123\n",
      "      Family       0.00      0.00      0.00        30\n",
      "     Fantasy       0.00      0.00      0.00        29\n",
      "        Film       0.00      0.00      0.00         5\n",
      "        Game       0.00      0.00      0.00        10\n",
      "     History       0.00      0.00      0.00         3\n",
      "      Horror       0.57      0.15      0.24       269\n",
      "       Music       0.00      0.00      0.00         7\n",
      "     Musical       0.00      0.00      0.00        16\n",
      "     Mystery       0.00      0.00      0.00        34\n",
      "        News       0.00      0.00      0.00         3\n",
      "     Reality       0.00      0.00      0.00        25\n",
      "     Romance       0.00      0.00      0.00        23\n",
      "         Sci       0.00      0.00      0.00        16\n",
      "       Short       0.00      0.00      0.00        47\n",
      "       Sport       0.00      0.00      0.00         2\n",
      "        Talk       0.00      0.00      0.00         2\n",
      "    Thriller       0.00      0.00      0.00        38\n",
      "         War       0.00      0.00      0.00         2\n",
      "     Western       0.81      0.17      0.29        75\n",
      "\n",
      "    accuracy                           0.47      5059\n",
      "   macro avg       0.21      0.11      0.12      5059\n",
      "weighted avg       0.48      0.47      0.42      5059\n",
      "\n"
     ]
    }
   ],
   "source": [
    "# check performance of model\n",
    "cr_svm_tfidf = classification_report(test_Y, prediction_svm_tfidf, target_names=list(encoded_genre['genre']), zero_division=0)\n",
    "\n",
    "print(cr_svm_tfidf)"
   ]
  },
  {
   "cell_type": "markdown",
   "metadata": {},
   "source": [
    "### Confusion Matrix\n",
    "\n",
    "We now plot the confusion matrix for the above models to analyse their performance"
   ]
  },
  {
   "cell_type": "code",
   "execution_count": 44,
   "metadata": {},
   "outputs": [],
   "source": [
    "# function to transform confusion matrix to a dataframe\n",
    "def confmat_to_df(predict_Y: np.ndarray) -> pd.DataFrame:\n",
    "    \n",
    "    # get the confusion matrix for predict_Y\n",
    "    cm = confusion_matrix(test_Y, predict_Y)\n",
    "\n",
    "    # define classnames for index and column names\n",
    "    classnames = list(encoded_genre['genre'])\n",
    "\n",
    "    # generate the dataframe\n",
    "    df_cm = pd.DataFrame(cm, index=classnames, columns=classnames)\n",
    "\n",
    "    return df_cm"
   ]
  },
  {
   "cell_type": "code",
   "execution_count": 45,
   "metadata": {},
   "outputs": [],
   "source": [
    "# function to plot the confusion matrix using heatmap\n",
    "def plot_confmat(predict_Y: np.ndarray):\n",
    "\n",
    "    # get a dataframe form of the confusion matrix\n",
    "    df_cm = confmat_to_df(predict_Y)\n",
    "    \n",
    "    plt.figure(figsize=(20,10))\n",
    "    \n",
    "    sns.heatmap(df_cm, linewidths=0.5, center=600, cmap='PuRd', linecolor='k')\n",
    "\n",
    "    plt.ylabel('True label')\n",
    "    plt.xlabel('Predicted label')\n",
    "    plt.title('Confusion Matrix')\n",
    "\n",
    "    plt.show() \n",
    "\n",
    "    return None"
   ]
  },
  {
   "cell_type": "markdown",
   "metadata": {},
   "source": [
    "##### Naive Bayes Classifier with Bag of Words"
   ]
  },
  {
   "cell_type": "code",
   "execution_count": 46,
   "metadata": {},
   "outputs": [
    {
     "data": {
      "image/png": "[encoded data removed]",
      "text/plain": [
       "<Figure size 1440x720 with 2 Axes>"
      ]
     },
     "metadata": {
      "needs_background": "light"
     },
     "output_type": "display_data"
    }
   ],
   "source": [
    "# heatmap of confusion matrix\n",
    "plot_confmat(prediction_nb_bow)"
   ]
  },
  {
   "cell_type": "markdown",
   "metadata": {},
   "source": [
    "##### Naive Bayes Classifier with TF-IDF"
   ]
  },
  {
   "cell_type": "code",
   "execution_count": 47,
   "metadata": {},
   "outputs": [
    {
     "data": {
      "image/png": "[encoded data removed]",
      "text/plain": [
       "<Figure size 1440x720 with 2 Axes>"
      ]
     },
     "metadata": {
      "needs_background": "light"
     },
     "output_type": "display_data"
    }
   ],
   "source": [
    "# heatmap of confusion matrix\n",
    "plot_confmat(prediction_nb_tfidf)"
   ]
  },
  {
   "cell_type": "markdown",
   "metadata": {},
   "source": [
    "##### SVM Classifier with Bag of Words"
   ]
  },
  {
   "cell_type": "code",
   "execution_count": 48,
   "metadata": {},
   "outputs": [
    {
     "data": {
      "image/png": "[encoded data removed]",
      "text/plain": [
       "<Figure size 1440x720 with 2 Axes>"
      ]
     },
     "metadata": {
      "needs_background": "light"
     },
     "output_type": "display_data"
    }
   ],
   "source": [
    "# heatmap of confusion matrix\n",
    "plot_confmat(prediction_svm_bow)"
   ]
  },
  {
   "cell_type": "markdown",
   "metadata": {},
   "source": [
    "##### SVM Classifier with TF-IDF"
   ]
  },
  {
   "cell_type": "code",
   "execution_count": 49,
   "metadata": {},
   "outputs": [
    {
     "data": {
      "image/png": "[encoded data removed]",
      "text/plain": [
       "<Figure size 1440x720 with 2 Axes>"
      ]
     },
     "metadata": {
      "needs_background": "light"
     },
     "output_type": "display_data"
    }
   ],
   "source": [
    "# heatmap of confusion matrix\n",
    "plot_confmat(prediction_svm_tfidf)"
   ]
  }
 ],
 "metadata": {
  "interpreter": {
   "hash": "39dc05f8594183324051ed3b0260fe862e3513d8d4a051af91a9e090c533b2f1"
  },
  "kernelspec": {
   "display_name": "Python 3.8.13 ('EY')",
   "language": "python",
   "name": "python3"
  },
  "language_info": {
   "codemirror_mode": {
    "name": "ipython",
    "version": 3
   },
   "file_extension": ".py",
   "mimetype": "text/x-python",
   "name": "python",
   "nbconvert_exporter": "python",
   "pygments_lexer": "ipython3",
   "version": "3.8.13"
  },
  "orig_nbformat": 4
 },
 "nbformat": 4,
 "nbformat_minor": 2
}
